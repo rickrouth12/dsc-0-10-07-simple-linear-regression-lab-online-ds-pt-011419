{
 "cells": [
  {
   "cell_type": "markdown",
   "metadata": {},
   "source": [
    "# Simple Linear Regression - Lab\n",
    "\n",
    "## Introduction\n",
    "\n",
    "Regression analysis forms the basis of machine learning experiments. Understanding regression will help you to get the foundations of most machine learing algorithms. Ever wondered what's at the heart of an artificial neural network processing unstructured data like music and graphics? It can be linear regression!\n",
    "\n",
    "\n",
    "## Objectives\n",
    "\n",
    "You will be able to:\n",
    "\n",
    "* Calculate the slope of a line using standard slope formula \n",
    "* Calculate the y-intercept using the slope value\n",
    "* Draw a regression line based on calculated slope and intercept\n",
    "* Predict the label of a previously unseen data element\n",
    "\n"
   ]
  },
  {
   "cell_type": "markdown",
   "metadata": {},
   "source": [
    "## Let's get started \n",
    "\n",
    "A first step towards understanding regression is getting a clear idea about \"linear\" regression and basic linear algebra. "
   ]
  },
  {
   "cell_type": "markdown",
   "metadata": {},
   "source": [
    "The calculation for the best-fit line's slope, `m` is calculated as :\n",
    "![](best-fit-slope.png)"
   ]
  },
  {
   "cell_type": "markdown",
   "metadata": {},
   "source": [
    "\n",
    "As in our previous lesson, let's break down the formula into its parts. First we shall import the required libraries and define some data points to work with. We shall first create some toy data as numpy arrays. Let's do this for you to give you a head start. "
   ]
  },
  {
   "cell_type": "code",
   "execution_count": 1,
   "metadata": {},
   "outputs": [],
   "source": [
    "# import necessary libraries\n",
    "\n",
    "import numpy as np\n",
    "import matplotlib.pyplot as plt\n",
    "from matplotlib import style\n",
    "style.use('ggplot')\n",
    "\n",
    "# Initialize vectors X and Y with given values and create a scatter plot\n",
    "X = np.array([1,2,3,4,5,6,8,8,9,10], dtype=np.float64)\n",
    "Y = np.array([7,7,8,9,9,10,10,11,11,12], dtype=np.float64)"
   ]
  },
  {
   "cell_type": "markdown",
   "metadata": {},
   "source": [
    "## Show a scatter plot between X and Y and comment on the output "
   ]
  },
  {
   "cell_type": "code",
   "execution_count": 2,
   "metadata": {},
   "outputs": [
    {
     "data": {
      "text/plain": [
       "<matplotlib.collections.PathCollection at 0x1134c0438>"
      ]
     },
     "execution_count": 2,
     "metadata": {},
     "output_type": "execute_result"
    },
    {
     "data": {
      "image/png": "[encoded data removed]",
      "text/plain": [
       "<Figure size 432x288 with 1 Axes>"
      ]
     },
     "metadata": {
      "needs_background": "light"
     },
     "output_type": "display_data"
    }
   ],
   "source": [
    "# Scatter plot\n",
    "plt.scatter(X,Y)"
   ]
  },
  {
   "cell_type": "code",
   "execution_count": 3,
   "metadata": {},
   "outputs": [],
   "source": [
    "# Your observations about relationship in X and Y \n",
    "# The scatter plot above indicates that there is a positive linear relationship between X and Y vectors, the np \n",
    "# arrays we created. The best fit line will have a positive slope and positive y-intercept value.\n"
   ]
  },
  {
   "cell_type": "markdown",
   "metadata": {},
   "source": [
    "In a data analysis context, we can think of these points as two vectors:\n",
    "\n",
    "* **vector X**: the features of our model\n",
    "* **vector Y**: the labels for given features\n",
    "\n",
    "## Write a function calc_slope()\n",
    "\n",
    "Write a function `calc_clope()` that takes in x and y vectors and calculates the slope using the formula shown above. "
   ]
  },
  {
   "cell_type": "code",
   "execution_count": 18,
   "metadata": {},
   "outputs": [
    {
     "data": {
      "text/plain": [
       "0.5393518518518512"
      ]
     },
     "execution_count": 18,
     "metadata": {},
     "output_type": "execute_result"
    }
   ],
   "source": [
    "# Write the function to calculate slope as: \n",
    "# (mean(x) * mean(y) – mean(x*y)) / ( mean (x)^2 – mean( x^2))\n",
    "def calc_slope(xs,ys):\n",
    "    \n",
    "    x_bar = xs.mean()\n",
    "    y_bar = ys.mean()\n",
    "    xy_bar = (xs*ys).mean()\n",
    "    xs_bar = (xs*xs).mean()\n",
    "\n",
    "    m = ((x_bar * y_bar) - xy_bar) / ((x_bar*x_bar) - xs_bar)\n",
    "    return m\n",
    "\n",
    "calc_slope(X,Y)\n",
    "\n",
    "\n",
    "\n",
    "# 0.5393518518518512"
   ]
  },
  {
   "cell_type": "markdown",
   "metadata": {},
   "source": [
    "Great, so we have our slope. Next we calculate the intercept. "
   ]
  },
  {
   "cell_type": "markdown",
   "metadata": {},
   "source": [
    "As a reminder, the calculation for the best-fit line's y-intercept is:\n",
    "\n",
    "![](best-fit-y-intercept.png)\n",
    "\n",
    "## Write a function best_fit()\n",
    "\n",
    "Write a function `best_fit()` that takes in X and Y, calculates the slope using above above  and intercept using the formula. The function should return slope and intercept values. "
   ]
  },
  {
   "cell_type": "code",
   "execution_count": 19,
   "metadata": {},
   "outputs": [
    {
     "data": {
      "text/plain": [
       "(0.5393518518518512, 6.379629629629633)"
      ]
     },
     "execution_count": 19,
     "metadata": {},
     "output_type": "execute_result"
    }
   ],
   "source": [
    "# use the slope function with intercept formula to return calculate slop and intercept from data points\n",
    "\n",
    "def best_fit(xs,ys):\n",
    "    \n",
    "    m = calc_slope(xs,ys)\n",
    "    b = np.mean(ys) - m*np.mean(xs)\n",
    "    \n",
    "    return m, b\n",
    "# Uncomment below to test your function\n",
    "\n",
    "m, b = best_fit(X,Y)\n",
    "m,b\n",
    "\n",
    "# (0.5393518518518512, 6.379629629629633)"
   ]
  },
  {
   "cell_type": "markdown",
   "metadata": {},
   "source": [
    "We now have a working model with `m` and `b` as model parameters. We can create a line for the data points using the calculated slope and intercept:\n",
    "\n",
    "* Recall that `y=mx+b`. We can now use slope and intercept values along with X data points (features) to calculate the Y data points (labels) of the regression line. \n",
    "\n",
    "## Write a function reg_line() \n",
    "\n",
    "Write a function `reg_line()` that takes in slope, intercept and X vector and calculates the regression line using Y= mX+b for each point in X."
   ]
  },
  {
   "cell_type": "code",
   "execution_count": 22,
   "metadata": {},
   "outputs": [],
   "source": [
    "def reg_line (m, b, xs):\n",
    "    \n",
    "    return [(m*x)+b for x in xs]\n",
    "\n",
    "\n",
    "\n",
    "# Uncomment below\n",
    "regression_line = reg_line(m,b,X)"
   ]
  },
  {
   "cell_type": "markdown",
   "metadata": {},
   "source": [
    "## Plot the (x,y) data points and draw the calculated regression line for visual inspection"
   ]
  },
  {
   "cell_type": "code",
   "execution_count": 26,
   "metadata": {},
   "outputs": [
    {
     "data": {
      "image/png": "[encoded data removed]",
      "text/plain": [
       "<Figure size 432x288 with 1 Axes>"
      ]
     },
     "metadata": {
      "needs_background": "light"
     },
     "output_type": "display_data"
    }
   ],
   "source": [
    "# Plot data and regression line\n",
    "plt.scatter(X,Y, color=\"blue\", label=\"Data Points\")\n",
    "plt.title(\"Least Squares Linear Regression\")\n",
    "plt.plot(X, regression_line, color=\"orange\", label= \"Regression Line\")\n",
    "plt.legend()\n",
    "plt.show()"
   ]
  },
  {
   "cell_type": "markdown",
   "metadata": {},
   "source": [
    "So there we have it, our least squares regression line. This is the best fit line and does describe the data pretty well (still not perfect though). \n",
    "\n",
    "## Describe your Model Mathematically and in words"
   ]
  },
  {
   "cell_type": "code",
   "execution_count": 28,
   "metadata": {},
   "outputs": [
    {
     "name": "stdout",
     "output_type": "stream",
     "text": [
      "0.5393518518518512 6.379629629629633\n"
     ]
    }
   ],
   "source": [
    "# Your answer here\n",
    "print(m, b)\n",
    "# Line equation: y = 0.54x + 6.38\n",
    "# The y-intercept, the y-value when x=0 and crosses the y axis, is 6.3797\n",
    "# The slope of the line is positive 0.539"
   ]
  },
  {
   "cell_type": "markdown",
   "metadata": {},
   "source": [
    "## Predicting label for new data\n",
    "\n",
    "So, how might you go about actually making a prediction based on this model you just made?\n",
    "\n",
    "Now that we have a working model with m and b as model parameters. We can fill in a value of x with these parameters to identify a corresponding value of y according to our model. Recall the formula \n",
    "![](pred.jpg)\n",
    "\n",
    "Let's try to find a y prediction for a new value of x = 7 and unknown y, and plot the new prediction with existing data "
   ]
  },
  {
   "cell_type": "code",
   "execution_count": 29,
   "metadata": {},
   "outputs": [
    {
     "data": {
      "text/plain": [
       "10.155092592592592"
      ]
     },
     "execution_count": 29,
     "metadata": {},
     "output_type": "execute_result"
    }
   ],
   "source": [
    "x_new = 7\n",
    "y_predicted = m*x_new + b\n",
    "y_predicted\n",
    "\n",
    "# 10.155092592592592"
   ]
  },
  {
   "cell_type": "markdown",
   "metadata": {},
   "source": [
    "## Plot the prediction with actual data and regression line "
   ]
  },
  {
   "cell_type": "code",
   "execution_count": 33,
   "metadata": {},
   "outputs": [
    {
     "data": {
      "image/png": "[encoded data removed]",
      "text/plain": [
       "<Figure size 432x288 with 1 Axes>"
      ]
     },
     "metadata": {
      "needs_background": "light"
     },
     "output_type": "display_data"
    }
   ],
   "source": [
    "# Plot as above and show the predicted value\n",
    "plt.scatter(X, Y, color='blue', label='data')\n",
    "plt.plot(X, regression_line, color='orange', label='regression line')\n",
    "plt.scatter(x_new, y_predicted, color='red', label='Prediction: '+ str(np.round(y_predicted,1)))\n",
    "plt.legend(loc=2)\n",
    "plt.show()"
   ]
  },
  {
   "cell_type": "markdown",
   "metadata": {},
   "source": [
    "We now know how to create our own models, which is great, but we're stilling missing something integral: how accurate is our model? This is the topic for discussion in the next lab."
   ]
  },
  {
   "cell_type": "markdown",
   "metadata": {},
   "source": [
    "## Summary\n",
    "\n",
    "In this lesson, we learnt how we can draw a best fit line for given data labels and features, by first calculating the slope and intercept. The calculated regression line was then used to predict the label (y-value) of a previously unseen feature (x-value). The lesson uses a simple set of data points for demonstration. Students should be able to plug in other datasets and practice with predictions for accuracy. "
   ]
  }
 ],
 "metadata": {
  "kernelspec": {
   "display_name": "learn-env",
   "language": "python",
   "name": "learn-env"
  },
  "language_info": {
   "codemirror_mode": {
    "name": "ipython",
    "version": 3
   },
   "file_extension": ".py",
   "mimetype": "text/x-python",
   "name": "python",
   "nbconvert_exporter": "python",
   "pygments_lexer": "ipython3",
   "version": "3.6.6"
  }
 },
 "nbformat": 4,
 "nbformat_minor": 2
}
